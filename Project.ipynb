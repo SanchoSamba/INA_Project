{
 "cells": [
  {
   "cell_type": "code",
   "execution_count": 30,
   "metadata": {},
   "outputs": [],
   "source": [
    "import requests\n",
    "from dotenv import load_dotenv\n",
    "import os\n",
    "import pandas as pd\n",
    "import steamspypi\n",
    "import steamreviews\n",
    "import numpy as np\n",
    "import networkx as nx\n",
    "import matplotlib.pyplot as plt\n",
    "from mpl_toolkits.mplot3d import Axes3D\n",
    "\n",
    "\n",
    "\n",
    "load_dotenv()\n",
    "API_KEY = os.getenv(\"API_KEY\")\n"
   ]
  },
  {
   "cell_type": "markdown",
   "metadata": {},
   "source": [
    "# Collect the 100 most popular games on steam"
   ]
  },
  {
   "cell_type": "code",
   "execution_count": 14,
   "metadata": {},
   "outputs": [
    {
     "data": {
      "text/html": [
       "<div>\n",
       "<style scoped>\n",
       "    .dataframe tbody tr th:only-of-type {\n",
       "        vertical-align: middle;\n",
       "    }\n",
       "\n",
       "    .dataframe tbody tr th {\n",
       "        vertical-align: top;\n",
       "    }\n",
       "\n",
       "    .dataframe thead th {\n",
       "        text-align: right;\n",
       "    }\n",
       "</style>\n",
       "<table border=\"1\" class=\"dataframe\">\n",
       "  <thead>\n",
       "    <tr style=\"text-align: right;\">\n",
       "      <th></th>\n",
       "      <th>name</th>\n",
       "      <th>appid</th>\n",
       "    </tr>\n",
       "  </thead>\n",
       "  <tbody>\n",
       "    <tr>\n",
       "      <th>0</th>\n",
       "      <td>Dota 2</td>\n",
       "      <td>570</td>\n",
       "    </tr>\n",
       "    <tr>\n",
       "      <th>1</th>\n",
       "      <td>Counter-Strike: Global Offensive</td>\n",
       "      <td>730</td>\n",
       "    </tr>\n",
       "    <tr>\n",
       "      <th>2</th>\n",
       "      <td>PUBG: BATTLEGROUNDS</td>\n",
       "      <td>578080</td>\n",
       "    </tr>\n",
       "    <tr>\n",
       "      <th>3</th>\n",
       "      <td>New World</td>\n",
       "      <td>1063730</td>\n",
       "    </tr>\n",
       "    <tr>\n",
       "      <th>4</th>\n",
       "      <td>Palworld</td>\n",
       "      <td>1623730</td>\n",
       "    </tr>\n",
       "  </tbody>\n",
       "</table>\n",
       "</div>"
      ],
      "text/plain": [
       "                               name    appid\n",
       "0                            Dota 2      570\n",
       "1  Counter-Strike: Global Offensive      730\n",
       "2               PUBG: BATTLEGROUNDS   578080\n",
       "3                         New World  1063730\n",
       "4                          Palworld  1623730"
      ]
     },
     "metadata": {},
     "output_type": "display_data"
    }
   ],
   "source": [
    "data_request = {\"request\": \"top100owned\"}\n",
    "data = steamspypi.download(data_request)\n",
    "df = pd.DataFrame(data.values())\n",
    "df = df[['name', 'appid']]\n",
    "display(df.head())\n"
   ]
  },
  {
   "cell_type": "code",
   "execution_count": 15,
   "metadata": {},
   "outputs": [
    {
     "name": "stdout",
     "output_type": "stream",
     "text": [
      "                                name    appid  \\\n",
      "0                             Dota 2      570   \n",
      "1   Counter-Strike: Global Offensive      730   \n",
      "2                PUBG: BATTLEGROUNDS   578080   \n",
      "3                          New World  1063730   \n",
      "4                           Palworld  1623730   \n",
      "..                               ...      ...   \n",
      "95                              DayZ   221100   \n",
      "96                   Dota Underlords  1046930   \n",
      "97                Sons Of The Forest  1326470   \n",
      "98                    Minion Masters   489520   \n",
      "99              No More Room in Hell   224260   \n",
      "\n",
      "                                                 tags  \n",
      "0   {'Free to Play': 59557, 'MOBA': 19966, 'Multip...  \n",
      "1   {'FPS': 90066, 'Shooter': 64780, 'Multiplayer'...  \n",
      "2   {'Survival': 14608, 'Shooter': 12472, 'Battle ...  \n",
      "3   {'Open World': 771, 'Massively Multiplayer': 7...  \n",
      "4   {'Multiplayer': 993, 'Open World': 989, 'Creat...  \n",
      "..                                                ...  \n",
      "95  {'Survival': 15581, 'Online Co-Op': 10380, 'Op...  \n",
      "96  {'Free to Play': 712, 'Strategy': 587, 'Auto B...  \n",
      "97  {'Survival': 1931, 'Open World': 1800, 'Multip...  \n",
      "98  {'PvE': 7111, 'Trading Card Game': 7102, 'Styl...  \n",
      "99  {'Free to Play': 3622, 'Zombies': 3041, 'Multi...  \n",
      "\n",
      "[100 rows x 3 columns]\n"
     ]
    }
   ],
   "source": [
    "def get_tags(appid):\n",
    "    data_request = {\"request\": \"appdetails\", \"appid\": appid}\n",
    "    data = steamspypi.download(data_request)\n",
    "    return data['tags']\n",
    "\n",
    "df['tags'] = df['appid'].apply(get_tags)\n",
    "\n",
    "print(df)"
   ]
  },
  {
   "cell_type": "markdown",
   "metadata": {},
   "source": [
    "# Construct player networks"
   ]
  },
  {
   "cell_type": "markdown",
   "metadata": {},
   "source": [
    "Does it make sense to prune the friends of seed players based on wether they have the original game or not? The two options are smartly choosing the seed players or recursively looking at friends of friends who have the game until we have a big enough network."
   ]
  },
  {
   "cell_type": "code",
   "execution_count": 1,
   "metadata": {},
   "outputs": [],
   "source": [
    "def get_friends_with_game(player_id, app_id):\n",
    "    \"\"\" \n",
    "    Given a player_id and an app_id, returns a list of the player's friends who own the game.\n",
    "    \"\"\"\n",
    "    all_friends = []\n",
    "    url = f'http://api.steampowered.com/ISteamUser/GetFriendList/v0001/?key={API_KEY}&steamid={player_id}&relationship=friend'\n",
    "    response = requests.get(url)\n",
    "    friend_list = response.json()\n",
    "    try:\n",
    "        for item in friend_list[\"friendslist\"][\"friends\"]:\n",
    "            all_friends.append(item[\"steamid\"])\n",
    "    except:\n",
    "        pass\n",
    "        # print(\"Error getting friends.\")\n",
    "    friends_with_game = []\n",
    "    for friend in all_friends:\n",
    "        games = []\n",
    "        url = f'http://api.steampowered.com/IPlayerService/GetOwnedGames/v0001/?key={API_KEY}&steamid={friend}&format=json'\n",
    "        response = requests.get(url)\n",
    "        game_list = response.json()\n",
    "        try:\n",
    "            for item in game_list[\"response\"][\"games\"]:\n",
    "                games.append(item[\"appid\"])\n",
    "        except:\n",
    "            continue\n",
    "        if app_id in games:\n",
    "            friends_with_game.append(friend)\n",
    "    return friends_with_game\n",
    "    \n",
    "def get_friends(player_id):\n",
    "    \"\"\" \n",
    "    Given a player_id, returns a list of the player's friends.\n",
    "    \"\"\"\n",
    "    all_friends = []\n",
    "    url = f'http://api.steampowered.com/ISteamUser/GetFriendList/v0001/?key={API_KEY}&steamid={player_id}&relationship=friend'\n",
    "    response = requests.get(url)\n",
    "    friend_list = response.json()\n",
    "    try:\n",
    "        for item in friend_list[\"friendslist\"][\"friends\"]:\n",
    "            all_friends.append(item[\"steamid\"])\n",
    "    except:\n",
    "        pass\n",
    "        # print(\"Error getting friends.\")\n",
    "    return all_friends    \n",
    "    \n",
    "def get_ownership_network(app_id, params, seed_size=10, min_net_size=100):\n",
    "    \"\"\" \n",
    "    Given an app_id, returns a list of players who own the game and their friends who own the game.\n",
    "    \"\"\"\n",
    "    # Get seed players\n",
    "    review_dict, query_count = steamreviews.download_reviews_for_app_id(app_id, chosen_request_params=params)\n",
    "    players = []\n",
    "    for key in review_dict[\"reviews\"].keys():\n",
    "        if len(players) < seed_size:\n",
    "            players.append(review_dict[\"reviews\"][key][\"author\"][\"steamid\"])\n",
    "    network = players.copy()\n",
    "    queue = players.copy()\n",
    "    while queue:\n",
    "        player = queue.pop(0)\n",
    "        friends = get_friends_with_game(player, app_id)\n",
    "        for friend in friends:\n",
    "            if friend not in network:\n",
    "                network.append(friend)\n",
    "                queue.append(friend)\n",
    "                # print(f\"Added {friend} to the network.\")\n",
    "                if len(network) >= min_net_size:\n",
    "                    return network\n",
    "    return network\n",
    "\n",
    "def get_non_ownership_network(app_id, params, seed_size=10, min_net_size=100):\n",
    "    \"\"\" \n",
    "    Given an app_id, returns a friendship network of seed players. Friends of seeded players don't necessarily own the game.\n",
    "    \"\"\"\n",
    "    # Get seed players\n",
    "    review_dict, query_count = steamreviews.download_reviews_for_app_id(app_id, chosen_request_params=params)\n",
    "    players = []\n",
    "    for key in review_dict[\"reviews\"].keys():\n",
    "        if len(players) < seed_size:\n",
    "            players.append(review_dict[\"reviews\"][key][\"author\"][\"steamid\"])\n",
    "    print(\"Seed players collected.\")      \n",
    "    network = players.copy()\n",
    "    queue = players.copy()\n",
    "    while queue:\n",
    "        player = queue.pop(0)\n",
    "        friends = get_friends(player)\n",
    "        for friend in friends:\n",
    "            if friend not in network:\n",
    "                network.append(friend)\n",
    "                queue.append(friend)\n",
    "                # print(f\"Added {friend} to the network.\")\n",
    "                if len(network) >= min_net_size:\n",
    "                    return network\n",
    "    return network\n",
    "\n",
    "    \n",
    "        \n",
    "        \n",
    "def get_edges(net_nodes):\n",
    "    edges = []\n",
    "    for node in net_nodes:\n",
    "        friends = get_friends(node)\n",
    "        for friend in friends:\n",
    "            if friend in net_nodes:\n",
    "                edges.append((node, friend))\n",
    "    return edges\n",
    "\n",
    "def construct_pajek_network(net_nodes, net_edges, app_id):\n",
    "    with open(f\"./Networks/{app_id}.net\", \"w\") as f:\n",
    "        f.write(\"*Vertices \" + str(len(net_nodes)) + \"\\n\")\n",
    "        for i, node in enumerate(net_nodes):\n",
    "            f.write(str(i+1) + ' \"' + node + '\"\\n')\n",
    "        f.write(\"*Edges\\n\")\n",
    "        for edge in net_edges:\n",
    "            f.write(str(net_nodes.index(edge[0]) + 1) + \" \" + str(net_nodes.index(edge[1]) + 1) + \"\\n\")\n",
    "    \n",
    "def construct_network(app_id, params, seed_size=10, min_net_size=100):\n",
    "    net_nodes = get_non_ownership_network(app_id, params, seed_size, min_net_size)\n",
    "    print(\"Nodes collected.\")\n",
    "    net_edges = get_edges(net_nodes)\n",
    "    print(\"Edges collected.\")\n",
    "    construct_pajek_network(net_nodes, net_edges, app_id)\n",
    "    print(\"Network constructed.\")"
   ]
  },
  {
   "cell_type": "code",
   "execution_count": 2,
   "metadata": {},
   "outputs": [],
   "source": [
    "request_params = dict()\n",
    "request_params['language'] = 'english'\n",
    "request_params['review_type'] = 'positive'\n",
    "request_params['purchase_type'] = 'steam'\n",
    "request_params['day_range'] = '30'"
   ]
  },
  {
   "cell_type": "code",
   "execution_count": null,
   "metadata": {},
   "outputs": [],
   "source": [
    "files = os.listdir(\"./Networks\")\n",
    "files = [file.split(\".\")[0] for file in files]\n",
    "for row in df.iterrows():\n",
    "    app_id = row[1]['appid']\n",
    "    if str(app_id) not in files:\n",
    "        print(f\"Constructing network for {row[1]['name']}.\")\n",
    "        construct_network(app_id, request_params, 10, 10000)\n",
    "    else:\n",
    "        print(f\"Network for {row[1]['name']} already exists.\")"
   ]
  },
  {
   "cell_type": "markdown",
   "metadata": {},
   "source": [
    "# Network Structure"
   ]
  },
  {
   "cell_type": "markdown",
   "metadata": {},
   "source": [
    "Compare the overall structure of the friendship networks, including metrics like density, average degree, and assortativity. Are there significant differences in how connected or clustered the networks are based on the games?"
   ]
  },
  {
   "cell_type": "code",
   "execution_count": 16,
   "metadata": {},
   "outputs": [],
   "source": [
    "import networkx as nx\n",
    "import os\n",
    "\n",
    "files = os.listdir(\"./Networks\")\n",
    "for file in files:\n",
    "    id = file.split(\".\")[0]\n",
    "    G = nx.read_pajek(f\"./Networks/{file}\")\n",
    "    G = nx.Graph(G)\n",
    "    if G.number_of_nodes() == 0:\n",
    "        continue\n",
    "    clustering_coefficient = nx.average_clustering(G)\n",
    "    avg_degree = sum(dict(G.degree()).values()) / len(G)\n",
    "    density = nx.density(G)\n",
    "    largest_cc = max(nx.connected_components(G), key=len)\n",
    "    df.loc[df['appid'] == int(id), 'avg_degree'] = avg_degree\n",
    "    df.loc[df['appid'] == int(id), 'density'] = density\n",
    "    df.loc[df['appid'] == int(id), 'clustering_coefficient'] = clustering_coefficient\n",
    "    df.loc[df['appid'] == int(app_id), 'largest_connected_component'] = len(largest_cc)\n",
    "    \n",
    "df.to_csv(\"steam_data.csv\")    \n"
   ]
  },
  {
   "cell_type": "code",
   "execution_count": 21,
   "metadata": {},
   "outputs": [
    {
     "data": {
      "image/png": "[encoded data removed]",
      "text/plain": [
       "<Figure size 640x480 with 1 Axes>"
      ]
     },
     "metadata": {},
     "output_type": "display_data"
    }
   ],
   "source": [
    "fig = plt.figure()\n",
    "ax = fig.add_subplot(111, projection='3d')\n",
    "\n",
    "ax.scatter(df['avg_degree'], df['density'], df['clustering_coefficient'])\n",
    "ax.set_xlabel('Average Degree')\n",
    "ax.set_ylabel('Density')\n",
    "ax.set_zlabel('Clustering Coefficient')\n",
    "\n",
    "plt.show()\n"
   ]
  },
  {
   "cell_type": "markdown",
   "metadata": {},
   "source": [
    "# Centrality Measures"
   ]
  },
  {
   "cell_type": "markdown",
   "metadata": {},
   "source": [
    " Investigate the centrality of nodes (players) within each network. Are there players who act as hubs or connectors within their respective communities? Do certain games tend to have more centralized or decentralized networks?"
   ]
  },
  {
   "cell_type": "code",
   "execution_count": 21,
   "metadata": {},
   "outputs": [],
   "source": [
    "files = os.listdir(\"./Networks\")\n",
    "df = pd.read_csv(\"steam_data.csv\")\n",
    "for file in files:\n",
    "    id = file.split(\".\")[0]\n",
    "    G = nx.read_pajek(f\"./Networks/{file}\")\n",
    "    G = nx.Graph(G)\n",
    "    if G.number_of_nodes() == 0:\n",
    "        continue\n",
    "    degree_centrality = nx.degree_centrality(G)\n",
    "    closeness_centrality = nx.closeness_centrality(G)\n",
    "    betweenness_centrality = nx.betweenness_centrality(G)\n",
    "    df.loc[df['appid'] == int(id), 'degree_centrality'] = np.mean(list(degree_centrality.values()))\n",
    "    df.loc[df['appid'] == int(id), 'closeness_centrality'] = np.mean(list(closeness_centrality.values()))\n",
    "    df.loc[df['appid'] == int(id), 'betweenness_centrality'] = np.mean(list(betweenness_centrality.values()))\n",
    "df.to_csv(\"steam_data.csv\")"
   ]
  },
  {
   "cell_type": "code",
   "execution_count": 2,
   "metadata": {},
   "outputs": [],
   "source": [
    "df = pd.read_csv(\"steam_data.csv\")"
   ]
  },
  {
   "cell_type": "code",
   "execution_count": 3,
   "metadata": {},
   "outputs": [
    {
     "data": {
      "image/png": "[encoded data removed]",
      "text/plain": [
       "<Figure size 640x480 with 3 Axes>"
      ]
     },
     "metadata": {},
     "output_type": "display_data"
    }
   ],
   "source": [
    "fig, axs = plt.subplots(3, 1)\n",
    "axs[0].hist(df['degree_centrality'], bins=72)\n",
    "axs[0].set_title('Degree Centrality')\n",
    "axs[1].hist(df['closeness_centrality'], bins=72)\n",
    "axs[1].set_title('Closeness Centrality')\n",
    "axs[2].hist(df['betweenness_centrality'], bins=72)\n",
    "axs[2].set_title('Betweenness Centrality')\n",
    "plt.tight_layout()\n",
    "plt.show()"
   ]
  },
  {
   "cell_type": "markdown",
   "metadata": {},
   "source": [
    "# Community Detection"
   ]
  },
  {
   "cell_type": "markdown",
   "metadata": {},
   "source": [
    "Apply community detection algorithms to identify groups or communities within each network. Are there distinct community structures associated with different games? How do these communities overlap or interact?"
   ]
  },
  {
   "cell_type": "markdown",
   "metadata": {},
   "source": [
    "# Clustering of networks"
   ]
  },
  {
   "cell_type": "code",
   "execution_count": 4,
   "metadata": {},
   "outputs": [],
   "source": [
    "df_std = df.copy()"
   ]
  },
  {
   "cell_type": "code",
   "execution_count": 5,
   "metadata": {},
   "outputs": [],
   "source": [
    "from sklearn.preprocessing import StandardScaler\n",
    "variables = [\"avg_degree\",\"density\",\"clustering_coefficient\",\"degree_centrality\",\"closeness_centrality\",\"betweenness_centrality\"]\n",
    "scaler = StandardScaler()\n",
    "\n",
    "# standardize variables in the dataframe\n",
    "df_std[variables] = scaler.fit_transform(df_std[variables])\n"
   ]
  },
  {
   "cell_type": "code",
   "execution_count": 14,
   "metadata": {},
   "outputs": [],
   "source": [
    "# Find any missing values in the dataframe\n",
    "df_std.isnull().sum()\n",
    "# Drop any rows with missing values\n",
    "df_std = df_std.dropna()\n"
   ]
  },
  {
   "cell_type": "code",
   "execution_count": 46,
   "metadata": {},
   "outputs": [
    {
     "data": {
      "text/html": [
       "<div>\n",
       "<style scoped>\n",
       "    .dataframe tbody tr th:only-of-type {\n",
       "        vertical-align: middle;\n",
       "    }\n",
       "\n",
       "    .dataframe tbody tr th {\n",
       "        vertical-align: top;\n",
       "    }\n",
       "\n",
       "    .dataframe thead th {\n",
       "        text-align: right;\n",
       "    }\n",
       "</style>\n",
       "<table border=\"1\" class=\"dataframe\">\n",
       "  <thead>\n",
       "    <tr style=\"text-align: right;\">\n",
       "      <th></th>\n",
       "      <th>Unnamed: 0.1</th>\n",
       "      <th>Unnamed: 0</th>\n",
       "      <th>appid</th>\n",
       "      <th>avg_degree</th>\n",
       "      <th>density</th>\n",
       "      <th>clustering_coefficient</th>\n",
       "      <th>degree_centrality</th>\n",
       "      <th>closeness_centrality</th>\n",
       "      <th>betweenness_centrality</th>\n",
       "      <th>cluster</th>\n",
       "    </tr>\n",
       "  </thead>\n",
       "  <tbody>\n",
       "    <tr>\n",
       "      <th>count</th>\n",
       "      <td>72.000000</td>\n",
       "      <td>72.000000</td>\n",
       "      <td>7.200000e+01</td>\n",
       "      <td>7.200000e+01</td>\n",
       "      <td>7.200000e+01</td>\n",
       "      <td>7.200000e+01</td>\n",
       "      <td>7.200000e+01</td>\n",
       "      <td>7.200000e+01</td>\n",
       "      <td>7.200000e+01</td>\n",
       "      <td>72.000000</td>\n",
       "    </tr>\n",
       "    <tr>\n",
       "      <th>mean</th>\n",
       "      <td>40.125000</td>\n",
       "      <td>40.125000</td>\n",
       "      <td>5.782380e+05</td>\n",
       "      <td>-6.784696e-17</td>\n",
       "      <td>2.590520e-16</td>\n",
       "      <td>-6.229585e-16</td>\n",
       "      <td>2.590520e-16</td>\n",
       "      <td>-4.317534e-17</td>\n",
       "      <td>8.943463e-17</td>\n",
       "      <td>-0.277778</td>\n",
       "    </tr>\n",
       "    <tr>\n",
       "      <th>std</th>\n",
       "      <td>24.939328</td>\n",
       "      <td>24.939328</td>\n",
       "      <td>5.308579e+05</td>\n",
       "      <td>1.007018e+00</td>\n",
       "      <td>1.007018e+00</td>\n",
       "      <td>1.007018e+00</td>\n",
       "      <td>1.007018e+00</td>\n",
       "      <td>1.007018e+00</td>\n",
       "      <td>1.007018e+00</td>\n",
       "      <td>0.654824</td>\n",
       "    </tr>\n",
       "    <tr>\n",
       "      <th>min</th>\n",
       "      <td>0.000000</td>\n",
       "      <td>0.000000</td>\n",
       "      <td>1.000000e+01</td>\n",
       "      <td>-5.514384e-01</td>\n",
       "      <td>-5.499058e-01</td>\n",
       "      <td>-2.378076e+00</td>\n",
       "      <td>-5.499058e-01</td>\n",
       "      <td>-8.053681e-01</td>\n",
       "      <td>-6.987035e-01</td>\n",
       "      <td>-1.000000</td>\n",
       "    </tr>\n",
       "    <tr>\n",
       "      <th>25%</th>\n",
       "      <td>18.750000</td>\n",
       "      <td>18.750000</td>\n",
       "      <td>2.341175e+05</td>\n",
       "      <td>-3.766599e-01</td>\n",
       "      <td>-3.766860e-01</td>\n",
       "      <td>-5.871091e-01</td>\n",
       "      <td>-3.766860e-01</td>\n",
       "      <td>-6.757545e-01</td>\n",
       "      <td>-6.174107e-01</td>\n",
       "      <td>-1.000000</td>\n",
       "    </tr>\n",
       "    <tr>\n",
       "      <th>50%</th>\n",
       "      <td>39.500000</td>\n",
       "      <td>39.500000</td>\n",
       "      <td>3.837850e+05</td>\n",
       "      <td>-2.802171e-01</td>\n",
       "      <td>-2.802422e-01</td>\n",
       "      <td>1.460484e-01</td>\n",
       "      <td>-2.802422e-01</td>\n",
       "      <td>-4.286707e-01</td>\n",
       "      <td>-4.733179e-01</td>\n",
       "      <td>0.000000</td>\n",
       "    </tr>\n",
       "    <tr>\n",
       "      <th>75%</th>\n",
       "      <td>60.250000</td>\n",
       "      <td>60.250000</td>\n",
       "      <td>9.565400e+05</td>\n",
       "      <td>-7.787406e-02</td>\n",
       "      <td>-7.789667e-02</td>\n",
       "      <td>6.955036e-01</td>\n",
       "      <td>-7.789667e-02</td>\n",
       "      <td>1.557863e-01</td>\n",
       "      <td>1.797056e-01</td>\n",
       "      <td>0.000000</td>\n",
       "    </tr>\n",
       "    <tr>\n",
       "      <th>max</th>\n",
       "      <td>83.000000</td>\n",
       "      <td>83.000000</td>\n",
       "      <td>1.966720e+06</td>\n",
       "      <td>4.916988e+00</td>\n",
       "      <td>4.917025e+00</td>\n",
       "      <td>1.824661e+00</td>\n",
       "      <td>4.917025e+00</td>\n",
       "      <td>3.371385e+00</td>\n",
       "      <td>3.125932e+00</td>\n",
       "      <td>2.000000</td>\n",
       "    </tr>\n",
       "  </tbody>\n",
       "</table>\n",
       "</div>"
      ],
      "text/plain": [
       "       Unnamed: 0.1  Unnamed: 0         appid    avg_degree       density  \\\n",
       "count     72.000000   72.000000  7.200000e+01  7.200000e+01  7.200000e+01   \n",
       "mean      40.125000   40.125000  5.782380e+05 -6.784696e-17  2.590520e-16   \n",
       "std       24.939328   24.939328  5.308579e+05  1.007018e+00  1.007018e+00   \n",
       "min        0.000000    0.000000  1.000000e+01 -5.514384e-01 -5.499058e-01   \n",
       "25%       18.750000   18.750000  2.341175e+05 -3.766599e-01 -3.766860e-01   \n",
       "50%       39.500000   39.500000  3.837850e+05 -2.802171e-01 -2.802422e-01   \n",
       "75%       60.250000   60.250000  9.565400e+05 -7.787406e-02 -7.789667e-02   \n",
       "max       83.000000   83.000000  1.966720e+06  4.916988e+00  4.917025e+00   \n",
       "\n",
       "       clustering_coefficient  degree_centrality  closeness_centrality  \\\n",
       "count            7.200000e+01       7.200000e+01          7.200000e+01   \n",
       "mean            -6.229585e-16       2.590520e-16         -4.317534e-17   \n",
       "std              1.007018e+00       1.007018e+00          1.007018e+00   \n",
       "min             -2.378076e+00      -5.499058e-01         -8.053681e-01   \n",
       "25%             -5.871091e-01      -3.766860e-01         -6.757545e-01   \n",
       "50%              1.460484e-01      -2.802422e-01         -4.286707e-01   \n",
       "75%              6.955036e-01      -7.789667e-02          1.557863e-01   \n",
       "max              1.824661e+00       4.917025e+00          3.371385e+00   \n",
       "\n",
       "       betweenness_centrality    cluster  \n",
       "count            7.200000e+01  72.000000  \n",
       "mean             8.943463e-17  -0.277778  \n",
       "std              1.007018e+00   0.654824  \n",
       "min             -6.987035e-01  -1.000000  \n",
       "25%             -6.174107e-01  -1.000000  \n",
       "50%             -4.733179e-01   0.000000  \n",
       "75%              1.797056e-01   0.000000  \n",
       "max              3.125932e+00   2.000000  "
      ]
     },
     "execution_count": 46,
     "metadata": {},
     "output_type": "execute_result"
    }
   ],
   "source": [
    "from sklearn.cluster import DBSCAN\n",
    "\n",
    "# Create a DBSCAN model\n",
    "dbscan = DBSCAN(eps=0.5, min_samples=2)\n",
    "\n",
    "# Fit the model to your standardized data\n",
    "df_std['cluster'] = dbscan.fit_predict(df_std[variables])\n",
    "df_std.describe()"
   ]
  },
  {
   "cell_type": "code",
   "execution_count": 53,
   "metadata": {},
   "outputs": [],
   "source": [
    "df_std_1 = df_std[df_std['cluster'] == 1]\n",
    "df_std_0 = df_std[df_std['cluster'] == 0]\n",
    "df_std_2 = df_std[df_std['cluster'] == 2]\n",
    "df_std__1 = df_std[df_std['cluster'] == -1]"
   ]
  },
  {
   "cell_type": "code",
   "execution_count": 56,
   "metadata": {},
   "outputs": [
    {
     "name": "stdout",
     "output_type": "stream",
     "text": [
      "Cluster 0 has length of 42\n",
      "Cluster 1 has length of 2\n",
      "Cluster 2 has length of 2\n",
      "Cluster -1 has length of 26\n"
     ]
    }
   ],
   "source": [
    "for df in [df_std_0, df_std_1, df_std_2, df_std__1]:\n",
    "    print(f\"Cluster {df['cluster'].iloc[0]} has length of {len(df)}\")"
   ]
  },
  {
   "cell_type": "code",
   "execution_count": 74,
   "metadata": {},
   "outputs": [
    {
     "name": "stdout",
     "output_type": "stream",
     "text": [
      "The key 'Action' appears in 25 rows.\n",
      "The key 'Multiplayer' appears in 23 rows.\n",
      "The key 'Co-op' appears in 16 rows.\n",
      "The key 'Shooter' appears in 15 rows.\n",
      "The key 'Singleplayer' appears in 15 rows.\n"
     ]
    }
   ],
   "source": [
    "from collections import Counter\n",
    "\n",
    "# Initialize a Counter to keep track of key frequencies\n",
    "key_counter = Counter()\n",
    "\n",
    "# Iterate through each row in the 'tags' column and update the counter with the keys\n",
    "for tags_dict in df_std__1['tags']:\n",
    "    # Convert the string to a dictionary\n",
    "    tags_dict = eval(tags_dict)\n",
    "    key_counter.update(tags_dict.keys())\n",
    "\n",
    "top_5_keys = key_counter.most_common(5)\n",
    "\n",
    "# Prepare a list to store the results\n",
    "top_5_results = []\n",
    "\n",
    "# Count the number of rows that contain each of the top 5 keys\n",
    "for key, count in top_5_keys:\n",
    "    rows_with_key = sum(key in tags_dict for tags_dict in df['tags'])\n",
    "    top_5_results.append((key, rows_with_key))\n",
    "\n",
    "# Print the results\n",
    "for key, rows_with_key in top_5_results:\n",
    "    print(f\"The key '{key}' appears in {rows_with_key} rows.\")\n"
   ]
  },
  {
   "cell_type": "markdown",
   "metadata": {},
   "source": [
    "# New ownership approach"
   ]
  },
  {
   "cell_type": "code",
   "execution_count": 108,
   "metadata": {},
   "outputs": [],
   "source": [
    "import requests\n",
    "import time\n",
    "from collections import deque\n",
    "import json\n",
    "\n",
    "#API_KEY = 'YOUR_API_KEY'  # Replace with your actual API key\n",
    "\n",
    "def get_friends_with_game(player_id, app_id):\n",
    "    \"\"\" \n",
    "    Given a player_id and an app_id, returns a list of the player's friends who own the game.\n",
    "    \"\"\"\n",
    "    friends_with_game = []\n",
    "    try:\n",
    "        # Fetch the friend list of the player\n",
    "        url = f'http://api.steampowered.com/ISteamUser/GetFriendList/v0001/?key={API_KEY}&steamid={player_id}&relationship=friend'\n",
    "        response = requests.get(url)\n",
    "        friend_list = response.json().get('friendslist', {}).get('friends', [])\n",
    "        print(f\"Found {len(friend_list)} friends for player {player_id}.\")\n",
    "        \n",
    "        for friend in friend_list:\n",
    "            friend_id = friend['steamid']\n",
    "            # Check if the friend owns the game\n",
    "            # url = f'http://api.steampowered.com/IPlayerService/GetOwnedGames/v0001/?key={API_KEY}&steamid={friend_id}&format=json'\n",
    "            url = f'http://api.steampowered.com/ISteamUserStats/GetUserStatsForGame/v0002/?appid={app_id}&key={API_KEY}&steamid={friend_id}'\n",
    "            response = requests.get(url)\n",
    "            if len(response.json()) > 0:\n",
    "                friends_with_game.append(friend_id)\n",
    "            # games = response.json().get('response', {}).get('games', [])\n",
    "            # print(games)\n",
    "            # \n",
    "            # if any(game['appid'] == app_id for game in games):\n",
    "            #     friends_with_game.append(friend_id)\n",
    "        \n",
    "        time.sleep(1)  # Add delay to avoid hitting rate limits\n",
    "    except requests.RequestException as e:\n",
    "        print(f\"Request failed: {e}\")\n",
    "    except KeyError as e:\n",
    "        print(f\"Unexpected data format: {e}\")\n",
    "    return friends_with_game\n",
    "\n",
    "def save_network_to_file(network, file_path):\n",
    "    \"\"\" \n",
    "    Save the current network to a file.\n",
    "    \"\"\"\n",
    "    with open(file_path, 'w') as file:\n",
    "        json.dump(list(network), file)\n",
    "\n",
    "def get_ownership_network(app_id, params, seed_size=10, max_depth=3):\n",
    "    \"\"\" \n",
    "    Given an app_id, returns a list of players who own the game and their friends who own the game.\n",
    "    \"\"\"\n",
    "    # Get seed players from reviews\n",
    "    # review_dict, query_count = steamreviews.download_reviews_for_app_id(app_id, chosen_request_params=params)\n",
    "    # seed_players = [review_dict[\"reviews\"][key][\"author\"][\"steamid\"] for key in review_dict[\"reviews\"].keys()][:seed_size]\n",
    "    seed_players = [76561198884121016, 76561198217410319, 76561198144493390, 76561198201921879, 76561198048626572]\n",
    "    # seed_players = [76561198017205597]\n",
    "    network = set(seed_players)\n",
    "    queue = deque((seed_player, 0) for seed_player in seed_players)  # Queue of (player, depth) tuples\n",
    "\n",
    "    while queue:\n",
    "        player, depth = queue.popleft()\n",
    "        \n",
    "        if depth < max_depth:\n",
    "            friends = get_friends_with_game(player, app_id)\n",
    "        \n",
    "            for friend in friends:\n",
    "                if friend not in network:\n",
    "                    network.add(friend)\n",
    "                    print(f\"Current size of newtorks = {len(network)}\")\n",
    "                    queue.append((friend, depth + 1))\n",
    "                    if len(network) % 100 == 0:\n",
    "                        save_network_to_file(network, f\"./{app_id}_network.json\")\n",
    "                        print(f\"Saved network data with {len(network)} nodes\")\n",
    "    \n",
    "    return list(network)\n",
    "\n",
    "# Example usage:\n",
    "# params = { ... }  # Define your review query parameters\n",
    "# app_id = YOUR_APP_ID  # Replace with the specific game app ID\n",
    "# network = get_ownership_network(app_id, params, seed_size=10, max_depth=3)\n",
    "# print(network)\n"
   ]
  },
  {
   "cell_type": "code",
   "execution_count": null,
   "metadata": {},
   "outputs": [],
   "source": [
    "def get_edges(net_nodes):\n",
    "    edges = []\n",
    "    for node in net_nodes:\n",
    "        friends = get_friends(node)\n",
    "        for friend in friends:\n",
    "            if friend in net_nodes:\n",
    "                edges.append((node, friend))\n",
    "    return edges\n",
    "\n",
    "def construct_pajek_network(net_nodes, net_edges, app_id):\n",
    "    with open(f\"./Networks/{app_id}.net\", \"w\") as f:\n",
    "        f.write(\"*Vertices \" + str(len(net_nodes)) + \"\\n\")\n",
    "        for i, node in enumerate(net_nodes):\n",
    "            f.write(str(i+1) + ' \"' + node + '\"\\n')\n",
    "        f.write(\"*Edges\\n\")\n",
    "        for edge in net_edges:\n",
    "            f.write(str(net_nodes.index(edge[0]) + 1) + \" \" + str(net_nodes.index(edge[1]) + 1) + \"\\n\")\n",
    "    \n",
    "def construct_network(app_id, params, seed_size=10, min_net_size=100):\n",
    "    net_nodes = get_non_ownership_network(app_id, params, seed_size, min_net_size)\n",
    "    print(\"Nodes collected.\")\n",
    "    net_edges = get_edges(net_nodes)\n",
    "    print(\"Edges collected.\")\n",
    "    construct_pajek_network(net_nodes, net_edges, app_id)\n",
    "    print(\"Network constructed.\")"
   ]
  },
  {
   "cell_type": "code",
   "execution_count": 4,
   "metadata": {},
   "outputs": [],
   "source": [
    "request_params = dict()\n",
    "request_params['language'] = 'english'\n",
    "request_params['review_type'] = 'positive'\n",
    "request_params['purchase_type'] = 'steam'\n",
    "request_params['day_range'] = '30'"
   ]
  },
  {
   "cell_type": "code",
   "execution_count": 68,
   "metadata": {},
   "outputs": [
    {
     "name": "stdout",
     "output_type": "stream",
     "text": [
      "Found 57 friends for player 76561198048626572.\n"
     ]
    }
   ],
   "source": [
    "[76561198884121016, 76561198217410319, 76561198144493390, 76561198201921879, 76561198048626572]\n",
    "url = f'http://api.steampowered.com/ISteamUser/GetFriendList/v0001/?key={API_KEY}&steamid={player_id}&relationship=friend'\n",
    "response = requests.get(url)\n",
    "friend_list = response.json().get('friendslist', {}).get('friends', [])\n",
    "print(f\"Found {len(friend_list)} friends for player {player_id}.\")"
   ]
  },
  {
   "cell_type": "code",
   "execution_count": null,
   "metadata": {},
   "outputs": [],
   "source": [
    "friends = get_ownership_network(730, request_params, 10, 3)"
   ]
  }
 ],
 "metadata": {
  "kernelspec": {
   "display_name": "IDS",
   "language": "python",
   "name": "python3"
  },
  "language_info": {
   "codemirror_mode": {
    "name": "ipython",
    "version": 3
   },
   "file_extension": ".py",
   "mimetype": "text/x-python",
   "name": "python",
   "nbconvert_exporter": "python",
   "pygments_lexer": "ipython3",
   "version": "3.12.2"
  }
 },
 "nbformat": 4,
 "nbformat_minor": 2
}
