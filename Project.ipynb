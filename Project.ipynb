{
 "cells": [
  {
   "cell_type": "code",
   "execution_count": 58,
   "metadata": {},
   "outputs": [],
   "source": [
    "import requests\n",
    "from dotenv import load_dotenv\n",
    "import os\n",
    "load_dotenv\n",
    "API_KEY = os.getenv(\"API_KEY\")\n"
   ]
  },
  {
   "cell_type": "code",
   "execution_count": 31,
   "metadata": {},
   "outputs": [
    {
     "name": "stdout",
     "output_type": "stream",
     "text": [
      "[appID = 730] expected #reviews = 1073495\n"
     ]
    }
   ],
   "source": [
    "import steamreviews\n",
    "\n",
    "request_params = dict()\n",
    "request_params['language'] = 'english'\n",
    "request_params['review_type'] = 'positive'\n",
    "request_params['purchase_type'] = 'steam'\n",
    "request_params['day_range'] = '10'\n",
    "\n",
    "\n",
    "app_id = 730\n",
    "review_dict, query_count = steamreviews.download_reviews_for_app_id(app_id,\n",
    "                                                                    chosen_request_params=request_params)\n"
   ]
  },
  {
   "cell_type": "code",
   "execution_count": 43,
   "metadata": {},
   "outputs": [],
   "source": [
    "players = []\n",
    "for key in review_dict[\"reviews\"].keys():\n",
    "    if len(players) < 10:\n",
    "        players.append(review_dict[\"reviews\"][key][\"author\"][\"steamid\"])"
   ]
  },
  {
   "cell_type": "code",
   "execution_count": 55,
   "metadata": {},
   "outputs": [],
   "source": [
    "# For every player, get their friends\n",
    "friends = []\n",
    "for player in players:\n",
    "    friends.append(player)\n",
    "    url = f'http://api.steampowered.com/ISteamUser/GetFriendList/v0001/?key={API_KEY}&steamid={player}&relationship=friend'\n",
    "    response = requests.get(url)\n",
    "    friend_list = response.json()\n",
    "    try:\n",
    "        for item in friend_list[\"friendslist\"][\"friends\"]:\n",
    "            friends.append(item[\"steamid\"])\n",
    "    except:\n",
    "        continue"
   ]
  },
  {
   "cell_type": "code",
   "execution_count": 57,
   "metadata": {},
   "outputs": [],
   "source": [
    "# for every friend, get their games\n",
    "friends_with_game = []\n",
    "for friend in friends:\n",
    "    games = []\n",
    "    url = f'http://api.steampowered.com/IPlayerService/GetOwnedGames/v0001/?key={API_KEY}&steamid={friend}&format=json'\n",
    "    response = requests.get(url)\n",
    "    game_list = response.json()\n",
    "    try:\n",
    "        for item in game_list[\"response\"][\"games\"]:\n",
    "            games.append(item[\"appid\"])\n",
    "    except:\n",
    "        continue\n",
    "    if app_id in games:\n",
    "        friends_with_game.append(friend)\n",
    "        "
   ]
  },
  {
   "cell_type": "code",
   "execution_count": 60,
   "metadata": {},
   "outputs": [
    {
     "data": {
      "text/plain": [
       "73"
      ]
     },
     "metadata": {},
     "output_type": "display_data"
    },
    {
     "data": {
      "text/plain": [
       "183"
      ]
     },
     "metadata": {},
     "output_type": "display_data"
    }
   ],
   "source": [
    "\n"
   ]
  }
 ],
 "metadata": {
  "kernelspec": {
   "display_name": "IDS",
   "language": "python",
   "name": "python3"
  },
  "language_info": {
   "codemirror_mode": {
    "name": "ipython",
    "version": 3
   },
   "file_extension": ".py",
   "mimetype": "text/x-python",
   "name": "python",
   "nbconvert_exporter": "python",
   "pygments_lexer": "ipython3",
   "version": "3.10.13"
  }
 },
 "nbformat": 4,
 "nbformat_minor": 2
}
