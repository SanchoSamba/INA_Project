{
 "cells": [
  {
   "cell_type": "code",
   "execution_count": 2,
   "metadata": {},
   "outputs": [],
   "source": [
    "import requests\n",
    "from dotenv import load_dotenv\n",
    "import os\n",
    "import pandas as pd\n",
    "import steamspypi\n",
    "import steamreviews\n",
    "import numpy as np\n",
    "import networkx as nx\n",
    "import matplotlib.pyplot as plt\n",
    "from mpl_toolkits.mplot3d import Axes3D\n",
    "\n",
    "\n",
    "\n",
    "load_dotenv()\n",
    "API_KEY = os.getenv(\"API_KEY\")\n"
   ]
  },
  {
   "cell_type": "markdown",
   "metadata": {},
   "source": [
    "# Collect the 100 most popular games on steam"
   ]
  },
  {
   "cell_type": "code",
   "execution_count": null,
   "metadata": {},
   "outputs": [],
   "source": [
    "data_request = {\"request\": \"top100owned\"}\n",
    "data = steamspypi.download(data_request)\n",
    "df = pd.DataFrame(data.values())\n",
    "df = df[['name', 'appid']]\n",
    "display(df.head())\n"
   ]
  },
  {
   "cell_type": "code",
   "execution_count": null,
   "metadata": {},
   "outputs": [],
   "source": [
    "def get_tags(appid):\n",
    "    data_request = {\"request\": \"appdetails\", \"appid\": appid}\n",
    "    data = steamspypi.download(data_request)\n",
    "    return data['tags']\n",
    "\n",
    "df['tags'] = df['appid'].apply(get_tags)\n",
    "\n",
    "print(df)"
   ]
  },
  {
   "cell_type": "markdown",
   "metadata": {},
   "source": [
    "# Construct player networks"
   ]
  },
  {
   "cell_type": "markdown",
   "metadata": {},
   "source": [
    "Does it make sense to prune the friends of seed players based on wether they have the original game or not? The two options are smartly choosing the seed players or recursively looking at friends of friends who have the game until we have a big enough network."
   ]
  },
  {
   "cell_type": "code",
   "execution_count": null,
   "metadata": {},
   "outputs": [],
   "source": [
    "def get_friends_with_game(player_id, app_id):\n",
    "    \"\"\" \n",
    "    Given a player_id and an app_id, returns a list of the player's friends who own the game.\n",
    "    \"\"\"\n",
    "    all_friends = []\n",
    "    url = f'http://api.steampowered.com/ISteamUser/GetFriendList/v0001/?key={API_KEY}&steamid={player_id}&relationship=friend'\n",
    "    response = requests.get(url)\n",
    "    friend_list = response.json()\n",
    "    try:\n",
    "        for item in friend_list[\"friendslist\"][\"friends\"]:\n",
    "            all_friends.append(item[\"steamid\"])\n",
    "    except:\n",
    "        pass\n",
    "        # print(\"Error getting friends.\")\n",
    "    friends_with_game = []\n",
    "    for friend in all_friends:\n",
    "        games = []\n",
    "        url = f'http://api.steampowered.com/IPlayerService/GetOwnedGames/v0001/?key={API_KEY}&steamid={friend}&format=json'\n",
    "        response = requests.get(url)\n",
    "        game_list = response.json()\n",
    "        try:\n",
    "            for item in game_list[\"response\"][\"games\"]:\n",
    "                games.append(item[\"appid\"])\n",
    "        except:\n",
    "            continue\n",
    "        if app_id in games:\n",
    "            friends_with_game.append(friend)\n",
    "    return friends_with_game\n",
    "    \n",
    "def get_friends(player_id):\n",
    "    \"\"\" \n",
    "    Given a player_id, returns a list of the player's friends.\n",
    "    \"\"\"\n",
    "    all_friends = []\n",
    "    url = f'http://api.steampowered.com/ISteamUser/GetFriendList/v0001/?key={API_KEY}&steamid={player_id}&relationship=friend'\n",
    "    response = requests.get(url)\n",
    "    friend_list = response.json()\n",
    "    try:\n",
    "        for item in friend_list[\"friendslist\"][\"friends\"]:\n",
    "            all_friends.append(item[\"steamid\"])\n",
    "    except:\n",
    "        pass\n",
    "        # print(\"Error getting friends.\")\n",
    "    return all_friends    \n",
    "    \n",
    "def get_ownership_network(app_id, params, seed_size=10, min_net_size=100):\n",
    "    \"\"\" \n",
    "    Given an app_id, returns a list of players who own the game and their friends who own the game.\n",
    "    \"\"\"\n",
    "    # Get seed players\n",
    "    review_dict, query_count = steamreviews.download_reviews_for_app_id(app_id, chosen_request_params=params)\n",
    "    players = []\n",
    "    for key in review_dict[\"reviews\"].keys():\n",
    "        if len(players) < seed_size:\n",
    "            players.append(review_dict[\"reviews\"][key][\"author\"][\"steamid\"])\n",
    "    network = players.copy()\n",
    "    queue = players.copy()\n",
    "    while queue:\n",
    "        player = queue.pop(0)\n",
    "        friends = get_friends_with_game(player, app_id)\n",
    "        for friend in friends:\n",
    "            if friend not in network:\n",
    "                network.append(friend)\n",
    "                queue.append(friend)\n",
    "                # print(f\"Added {friend} to the network.\")\n",
    "                if len(network) >= min_net_size:\n",
    "                    return network\n",
    "    return network\n",
    "\n",
    "def get_non_ownership_network(app_id, params, seed_size=10, min_net_size=100):\n",
    "    \"\"\" \n",
    "    Given an app_id, returns a friendship network of seed players. Friends of seeded players don't necessarily own the game.\n",
    "    \"\"\"\n",
    "    # Get seed players\n",
    "    review_dict, query_count = steamreviews.download_reviews_for_app_id(app_id, chosen_request_params=params)\n",
    "    players = []\n",
    "    for key in review_dict[\"reviews\"].keys():\n",
    "        if len(players) < seed_size:\n",
    "            players.append(review_dict[\"reviews\"][key][\"author\"][\"steamid\"])\n",
    "    print(\"Seed players collected.\")      \n",
    "    network = players.copy()\n",
    "    queue = players.copy()\n",
    "    while queue:\n",
    "        player = queue.pop(0)\n",
    "        friends = get_friends(player)\n",
    "        for friend in friends:\n",
    "            if friend not in network:\n",
    "                network.append(friend)\n",
    "                queue.append(friend)\n",
    "                # print(f\"Added {friend} to the network.\")\n",
    "                if len(network) >= min_net_size:\n",
    "                    return network\n",
    "    return network\n",
    "\n",
    "    \n",
    "        \n",
    "        \n",
    "def get_edges(net_nodes):\n",
    "    edges = []\n",
    "    for node in net_nodes:\n",
    "        friends = get_friends(node)\n",
    "        for friend in friends:\n",
    "            if friend in net_nodes:\n",
    "                edges.append((node, friend))\n",
    "    return edges\n",
    "\n",
    "def construct_pajek_network(net_nodes, net_edges, app_id):\n",
    "    with open(f\"./Networks/{app_id}.net\", \"w\") as f:\n",
    "        f.write(\"*Vertices \" + str(len(net_nodes)) + \"\\n\")\n",
    "        for i, node in enumerate(net_nodes):\n",
    "            f.write(str(i+1) + ' \"' + node + '\"\\n')\n",
    "        f.write(\"*Edges\\n\")\n",
    "        for edge in net_edges:\n",
    "            f.write(str(net_nodes.index(edge[0]) + 1) + \" \" + str(net_nodes.index(edge[1]) + 1) + \"\\n\")\n",
    "    \n",
    "def construct_network(app_id, params, seed_size=10, min_net_size=100):\n",
    "    net_nodes = get_non_ownership_network(app_id, params, seed_size, min_net_size)\n",
    "    print(\"Nodes collected.\")\n",
    "    net_edges = get_edges(net_nodes)\n",
    "    print(\"Edges collected.\")\n",
    "    construct_pajek_network(net_nodes, net_edges, app_id)\n",
    "    print(\"Network constructed.\")"
   ]
  },
  {
   "cell_type": "code",
   "execution_count": null,
   "metadata": {},
   "outputs": [],
   "source": [
    "request_params = dict()\n",
    "request_params['language'] = 'english'\n",
    "request_params['review_type'] = 'positive'\n",
    "request_params['purchase_type'] = 'steam'\n",
    "request_params['day_range'] = '30'"
   ]
  },
  {
   "cell_type": "code",
   "execution_count": null,
   "metadata": {},
   "outputs": [],
   "source": [
    "files = os.listdir(\"./Networks\")\n",
    "files = [file.split(\".\")[0] for file in files]\n",
    "for row in df.iterrows():\n",
    "    app_id = row[1]['appid']\n",
    "    if str(app_id) not in files:\n",
    "        print(f\"Constructing network for {row[1]['name']}.\")\n",
    "        construct_network(app_id, request_params, 10, 10000)\n",
    "    else:\n",
    "        print(f\"Network for {row[1]['name']} already exists.\")"
   ]
  },
  {
   "cell_type": "markdown",
   "metadata": {},
   "source": [
    "# Network Structure"
   ]
  },
  {
   "cell_type": "markdown",
   "metadata": {},
   "source": [
    "Compare the overall structure of the friendship networks, including metrics like density, average degree, and assortativity. Are there significant differences in how connected or clustered the networks are based on the games?"
   ]
  },
  {
   "cell_type": "code",
   "execution_count": null,
   "metadata": {},
   "outputs": [],
   "source": [
    "import networkx as nx\n",
    "import os\n",
    "\n",
    "files = os.listdir(\"./Networks\")\n",
    "for file in files:\n",
    "    id = file.split(\".\")[0]\n",
    "    G = nx.read_pajek(f\"./Networks/{file}\")\n",
    "    G = nx.Graph(G)\n",
    "    if G.number_of_nodes() == 0:\n",
    "        continue\n",
    "    clustering_coefficient = nx.average_clustering(G)\n",
    "    avg_degree = sum(dict(G.degree()).values()) / len(G)\n",
    "    density = nx.density(G)\n",
    "    largest_cc = max(nx.connected_components(G), key=len)\n",
    "    df.loc[df['appid'] == int(id), 'avg_degree'] = avg_degree\n",
    "    df.loc[df['appid'] == int(id), 'density'] = density\n",
    "    df.loc[df['appid'] == int(id), 'clustering_coefficient'] = clustering_coefficient\n",
    "    df.loc[df['appid'] == int(app_id), 'largest_connected_component'] = len(largest_cc)\n",
    "    \n",
    "df.to_csv(\"steam_data.csv\")    \n"
   ]
  },
  {
   "cell_type": "code",
   "execution_count": null,
   "metadata": {},
   "outputs": [],
   "source": [
    "fig = plt.figure()\n",
    "ax = fig.add_subplot(111, projection='3d')\n",
    "\n",
    "ax.scatter(df['avg_degree'], df['density'], df['clustering_coefficient'])\n",
    "ax.set_xlabel('Average Degree')\n",
    "ax.set_ylabel('Density')\n",
    "ax.set_zlabel('Clustering Coefficient')\n",
    "\n",
    "plt.show()\n"
   ]
  },
  {
   "cell_type": "markdown",
   "metadata": {},
   "source": [
    "# Centrality Measures"
   ]
  },
  {
   "cell_type": "markdown",
   "metadata": {},
   "source": [
    " Investigate the centrality of nodes (players) within each network. Are there players who act as hubs or connectors within their respective communities? Do certain games tend to have more centralized or decentralized networks?"
   ]
  },
  {
   "cell_type": "code",
   "execution_count": null,
   "metadata": {},
   "outputs": [],
   "source": [
    "files = os.listdir(\"./Networks\")\n",
    "df = pd.read_csv(\"steam_data.csv\")\n",
    "for file in files:\n",
    "    id = file.split(\".\")[0]\n",
    "    G = nx.read_pajek(f\"./Networks/{file}\")\n",
    "    G = nx.Graph(G)\n",
    "    if G.number_of_nodes() == 0:\n",
    "        continue\n",
    "    degree_centrality = nx.degree_centrality(G)\n",
    "    closeness_centrality = nx.closeness_centrality(G)\n",
    "    betweenness_centrality = nx.betweenness_centrality(G)\n",
    "    df.loc[df['appid'] == int(id), 'degree_centrality'] = np.mean(list(degree_centrality.values()))\n",
    "    df.loc[df['appid'] == int(id), 'closeness_centrality'] = np.mean(list(closeness_centrality.values()))\n",
    "    df.loc[df['appid'] == int(id), 'betweenness_centrality'] = np.mean(list(betweenness_centrality.values()))\n",
    "df.to_csv(\"steam_data.csv\")"
   ]
  },
  {
   "cell_type": "code",
   "execution_count": null,
   "metadata": {},
   "outputs": [],
   "source": [
    "df = pd.read_csv(\"steam_data.csv\")"
   ]
  },
  {
   "cell_type": "code",
   "execution_count": null,
   "metadata": {},
   "outputs": [],
   "source": [
    "fig, axs = plt.subplots(3, 1)\n",
    "axs[0].hist(df['degree_centrality'], bins=72)\n",
    "axs[0].set_title('Degree Centrality')\n",
    "axs[1].hist(df['closeness_centrality'], bins=72)\n",
    "axs[1].set_title('Closeness Centrality')\n",
    "axs[2].hist(df['betweenness_centrality'], bins=72)\n",
    "axs[2].set_title('Betweenness Centrality')\n",
    "plt.tight_layout()\n",
    "plt.show()"
   ]
  },
  {
   "cell_type": "markdown",
   "metadata": {},
   "source": [
    "# Community Detection"
   ]
  },
  {
   "cell_type": "markdown",
   "metadata": {},
   "source": [
    "Apply community detection algorithms to identify groups or communities within each network. Are there distinct community structures associated with different games? How do these communities overlap or interact?"
   ]
  },
  {
   "cell_type": "markdown",
   "metadata": {},
   "source": [
    "# Clustering of networks"
   ]
  },
  {
   "cell_type": "code",
   "execution_count": null,
   "metadata": {},
   "outputs": [],
   "source": [
    "df_std = df.copy()"
   ]
  },
  {
   "cell_type": "code",
   "execution_count": null,
   "metadata": {},
   "outputs": [],
   "source": [
    "from sklearn.preprocessing import StandardScaler\n",
    "variables = [\"avg_degree\",\"density\",\"clustering_coefficient\",\"degree_centrality\",\"closeness_centrality\",\"betweenness_centrality\"]\n",
    "scaler = StandardScaler()\n",
    "\n",
    "# standardize variables in the dataframe\n",
    "df_std[variables] = scaler.fit_transform(df_std[variables])\n"
   ]
  },
  {
   "cell_type": "code",
   "execution_count": null,
   "metadata": {},
   "outputs": [],
   "source": [
    "# Find any missing values in the dataframe\n",
    "df_std.isnull().sum()\n",
    "# Drop any rows with missing values\n",
    "df_std = df_std.dropna()\n"
   ]
  },
  {
   "cell_type": "code",
   "execution_count": null,
   "metadata": {},
   "outputs": [],
   "source": [
    "from sklearn.cluster import DBSCAN\n",
    "\n",
    "# Create a DBSCAN model\n",
    "dbscan = DBSCAN(eps=0.5, min_samples=2)\n",
    "\n",
    "# Fit the model to your standardized data\n",
    "df_std['cluster'] = dbscan.fit_predict(df_std[variables])\n",
    "df_std.describe()"
   ]
  },
  {
   "cell_type": "code",
   "execution_count": null,
   "metadata": {},
   "outputs": [],
   "source": [
    "df_std_1 = df_std[df_std['cluster'] == 1]\n",
    "df_std_0 = df_std[df_std['cluster'] == 0]\n",
    "df_std_2 = df_std[df_std['cluster'] == 2]\n",
    "df_std__1 = df_std[df_std['cluster'] == -1]"
   ]
  },
  {
   "cell_type": "code",
   "execution_count": null,
   "metadata": {},
   "outputs": [],
   "source": [
    "for df in [df_std_0, df_std_1, df_std_2, df_std__1]:\n",
    "    print(f\"Cluster {df['cluster'].iloc[0]} has length of {len(df)}\")"
   ]
  },
  {
   "cell_type": "code",
   "execution_count": null,
   "metadata": {},
   "outputs": [],
   "source": [
    "from collections import Counter\n",
    "\n",
    "# Initialize a Counter to keep track of key frequencies\n",
    "key_counter = Counter()\n",
    "\n",
    "# Iterate through each row in the 'tags' column and update the counter with the keys\n",
    "for tags_dict in df_std__1['tags']:\n",
    "    # Convert the string to a dictionary\n",
    "    tags_dict = eval(tags_dict)\n",
    "    key_counter.update(tags_dict.keys())\n",
    "\n",
    "top_5_keys = key_counter.most_common(5)\n",
    "\n",
    "# Prepare a list to store the results\n",
    "top_5_results = []\n",
    "\n",
    "# Count the number of rows that contain each of the top 5 keys\n",
    "for key, count in top_5_keys:\n",
    "    rows_with_key = sum(key in tags_dict for tags_dict in df['tags'])\n",
    "    top_5_results.append((key, rows_with_key))\n",
    "\n",
    "# Print the results\n",
    "for key, rows_with_key in top_5_results:\n",
    "    print(f\"The key '{key}' appears in {rows_with_key} rows.\")\n"
   ]
  },
  {
   "cell_type": "markdown",
   "metadata": {},
   "source": [
    "# New ownership approach"
   ]
  },
  {
   "cell_type": "code",
   "execution_count": 4,
   "metadata": {},
   "outputs": [],
   "source": [
    "import requests\n",
    "import time\n",
    "from collections import deque\n",
    "import json\n",
    "\n",
    "#API_KEY = 'YOUR_API_KEY'  # Replace with your actual API key\n",
    "\n",
    "def get_friends_with_game(player_id, app_id):\n",
    "    \"\"\" \n",
    "    Given a player_id and an app_id, returns a list of the player's friends who own the game.\n",
    "    \"\"\"\n",
    "    friends_with_game = []\n",
    "    try:\n",
    "        # Fetch the friend list of the player\n",
    "        url = f'http://api.steampowered.com/ISteamUser/GetFriendList/v0001/?key={API_KEY}&steamid={player_id}&relationship=friend'\n",
    "        response = requests.get(url)\n",
    "        friend_list = response.json().get('friendslist', {}).get('friends', [])\n",
    "        print(f\"Found {len(friend_list)} friends for player {player_id}.\")\n",
    "        \n",
    "        for friend in friend_list:\n",
    "            friend_id = friend['steamid']\n",
    "            # Check if the friend owns the game\n",
    "            # url = f'http://api.steampowered.com/IPlayerService/GetOwnedGames/v0001/?key={API_KEY}&steamid={friend_id}&format=json'\n",
    "            url = f'http://api.steampowered.com/ISteamUserStats/GetUserStatsForGame/v0002/?appid={app_id}&key={API_KEY}&steamid={friend_id}'\n",
    "            response = requests.get(url)\n",
    "            if len(response.json()) > 0:\n",
    "                friends_with_game.append(friend_id)\n",
    "            # games = response.json().get('response', {}).get('games', [])\n",
    "            # print(games)\n",
    "            # \n",
    "            # if any(game['appid'] == app_id for game in games):\n",
    "            #     friends_with_game.append(friend_id)\n",
    "        \n",
    "        time.sleep(1)  # Add delay to avoid hitting rate limits\n",
    "    except requests.RequestException as e:\n",
    "        print(f\"Request failed: {e}\")\n",
    "    except KeyError as e:\n",
    "        print(f\"Unexpected data format: {e}\")\n",
    "    return friends_with_game\n",
    "\n",
    "def save_network_to_file(network, file_path):\n",
    "    \"\"\" \n",
    "    Save the current network to a file.\n",
    "    \"\"\"\n",
    "    with open(file_path, 'w') as file:\n",
    "        json.dump(list(network), file)\n",
    "\n",
    "def get_ownership_network(app_id, params, seed_size=10, max_depth=3):\n",
    "    \"\"\" \n",
    "    Given an app_id, returns a list of players who own the game and their friends who own the game.\n",
    "    \"\"\"\n",
    "    # Get seed players from reviews\n",
    "    # review_dict, query_count = steamreviews.download_reviews_for_app_id(app_id, chosen_request_params=params)\n",
    "    # seed_players = [review_dict[\"reviews\"][key][\"author\"][\"steamid\"] for key in review_dict[\"reviews\"].keys()][:seed_size]\n",
    "    seed_players = [76561198884121016, 76561198217410319, 76561198144493390, 76561198201921879, 76561198048626572]\n",
    "    # seed_players = [76561198017205597]\n",
    "    network = set(seed_players)\n",
    "    queue = deque((seed_player, 0) for seed_player in seed_players)  # Queue of (player, depth) tuples\n",
    "\n",
    "    while queue:\n",
    "        player, depth = queue.popleft()\n",
    "        \n",
    "        if depth < max_depth:\n",
    "            friends = get_friends_with_game(player, app_id)\n",
    "        \n",
    "            for friend in friends:\n",
    "                if friend not in network:\n",
    "                    network.add(friend)\n",
    "                    print(f\"Current size of newtorks = {len(network)}\")\n",
    "                    queue.append((friend, depth + 1))\n",
    "                    if len(network) % 100 == 0:\n",
    "                        save_network_to_file(network, f\"./{app_id}_network.json\")\n",
    "                        print(f\"Saved network data with {len(network)} nodes\")\n",
    "    \n",
    "    return list(network)\n",
    "\n",
    "# Example usage:\n",
    "# params = { ... }  # Define your review query parameters\n",
    "# app_id = YOUR_APP_ID  # Replace with the specific game app ID\n",
    "# network = get_ownership_network(app_id, params, seed_size=10, max_depth=3)\n",
    "# print(network)\n"
   ]
  },
  {
   "cell_type": "code",
   "execution_count": null,
   "metadata": {},
   "outputs": [],
   "source": [
    "def get_edges(net_nodes):\n",
    "    edges = []\n",
    "    for node in net_nodes:\n",
    "        friends = get_friends(node)\n",
    "        for friend in friends:\n",
    "            if friend in net_nodes:\n",
    "                edges.append((node, friend))\n",
    "    return edges\n",
    "\n",
    "def construct_pajek_network(net_nodes, net_edges, app_id):\n",
    "    with open(f\".INA_Project\\Networks\\{app_id}.net\", \"w\") as f:\n",
    "        f.write(\"*Vertices \" + str(len(net_nodes)) + \"\\n\")\n",
    "        for i, node in enumerate(net_nodes):\n",
    "            f.write(str(i+1) + ' \"' + str(node) + '\"\\n')\n",
    "        f.write(\"*Edges\\n\")\n",
    "        for edge in net_edges:\n",
    "            f.write(str(net_nodes.index(edge[0]) + 1) + \" \" + str(net_nodes.index(edge[1]) + 1) + \"\\n\")\n",
    "    \n",
    "def construct_network(app_id, params, seed_size=10, min_net_size=100):\n",
    "    net_nodes = get_non_ownership_network(app_id, params, seed_size, min_net_size)\n",
    "    print(\"Nodes collected.\")\n",
    "    net_edges = get_edges(net_nodes)\n",
    "    print(\"Edges collected.\")\n",
    "    construct_pajek_network(net_nodes, net_edges, app_id)\n",
    "    print(\"Network constructed.\")"
   ]
  },
  {
   "cell_type": "code",
   "execution_count": null,
   "metadata": {},
   "outputs": [],
   "source": [
    "request_params = dict()\n",
    "request_params['language'] = 'english'\n",
    "request_params['review_type'] = 'positive'\n",
    "request_params['purchase_type'] = 'steam'\n",
    "request_params['day_range'] = '30'"
   ]
  },
  {
   "cell_type": "code",
   "execution_count": null,
   "metadata": {},
   "outputs": [],
   "source": [
    "[76561198884121016, 76561198217410319, 76561198144493390, 76561198201921879, 76561198048626572]\n",
    "url = f'http://api.steampowered.com/ISteamUser/GetFriendList/v0001/?key={API_KEY}&steamid={player_id}&relationship=friend'\n",
    "response = requests.get(url)\n",
    "friend_list = response.json().get('friendslist', {}).get('friends', [])\n",
    "print(f\"Found {len(friend_list)} friends for player {player_id}.\")"
   ]
  },
  {
   "cell_type": "code",
   "execution_count": null,
   "metadata": {},
   "outputs": [],
   "source": [
    "import tqdm as tqdm"
   ]
  },
  {
   "cell_type": "code",
   "execution_count": null,
   "metadata": {},
   "outputs": [],
   "source": [
    "def get_edges(net_nodes):\n",
    "    net_nodes = set(net_nodes)  # convert list to set for faster lookup\n",
    "    edges = []\n",
    "    save_interval = 200  # define the interval at which you want to save the edges\n",
    "\n",
    "    # Load processed nodes if exists\n",
    "    try:\n",
    "        with open('processed_nodes.txt', 'r') as f:\n",
    "            processed_nodes = set(line.strip() for line in f)\n",
    "    except FileNotFoundError:\n",
    "        processed_nodes = set()\n",
    "\n",
    "    for i, node in enumerate(tqdm(net_nodes)):\n",
    "        if node in processed_nodes:\n",
    "            continue\n",
    "\n",
    "        friends = get_friends(node)\n",
    "        for friend in friends:\n",
    "            if friend in net_nodes:\n",
    "                edges.append((node, friend))\n",
    "\n",
    "        processed_nodes.add(node)\n",
    "\n",
    "        # Save edges and processed nodes periodically\n",
    "        if i % save_interval == 0:\n",
    "            with open('edges.txt', 'a') as f:\n",
    "                for edge in edges:\n",
    "                    f.write(f'{edge[0]} {edge[1]}\\n')\n",
    "            with open('processed_nodes.txt', 'w') as f:\n",
    "                for processed_node in processed_nodes:\n",
    "                    f.write(f'{processed_node}\\n')\n",
    "            edges = []  # clear the edges list after saving\n",
    "\n",
    "    # Save remaining edges and processed nodes\n",
    "    if edges:\n",
    "        with open('edges.txt', 'a') as f:\n",
    "            for edge in edges:\n",
    "                f.write(f'{edge[0]} {edge[1]}\\n')\n",
    "    if processed_nodes:\n",
    "        with open('processed_nodes.txt', 'w') as f:\n",
    "            for processed_node in processed_nodes:\n",
    "                f.write(f'{processed_node}\\n')\n",
    "\n",
    "    return edges"
   ]
  },
  {
   "cell_type": "code",
   "execution_count": null,
   "metadata": {},
   "outputs": [],
   "source": [
    "friends = get_ownership_network(730, request_params, 10, 3)"
   ]
  },
  {
   "cell_type": "code",
   "execution_count": 5,
   "metadata": {},
   "outputs": [],
   "source": [
    "# recrete friends variable from the saved file\n",
    "with open(\"730_network.json\", 'r') as file:\n",
    "    friends = json.load(file)"
   ]
  },
  {
   "cell_type": "code",
   "execution_count": 6,
   "metadata": {},
   "outputs": [
    {
     "data": {
      "text/plain": [
       "44400"
      ]
     },
     "execution_count": 6,
     "metadata": {},
     "output_type": "execute_result"
    }
   ],
   "source": [
    "len(friends)"
   ]
  },
  {
   "cell_type": "code",
   "execution_count": null,
   "metadata": {},
   "outputs": [],
   "source": [
    "edges = get_edges(friends)"
   ]
  },
  {
   "cell_type": "code",
   "execution_count": 62,
   "metadata": {},
   "outputs": [],
   "source": [
    "def construct_pajek_network(net_nodes, net_edges, app_id):\n",
    "\n",
    "    with open(f\"./Networks/{app_id}.net\", \"w\") as f:\n",
    "        f.write(\"*Vertices \" + str(len(net_nodes)) + \"\\n\")\n",
    "        for i, node in enumerate(net_nodes):\n",
    "            f.write(str(i+1) + ' \"' + str(node) + '\"\\n')\n",
    "        f.write(\"*Edges\\n\")\n",
    "        for edge in net_edges:\n",
    "            if edge[0] in net_nodes and edge[1] in net_nodes:\n",
    "                f.write(str(net_nodes.index(str(edge[0])) + 1) + \" \" + str(net_nodes.index(str(edge[1])) + 1) + \"\\n\")\n",
    "            else:\n",
    "                print(f\"Edge {edge} not in nodes.\")"
   ]
  },
  {
   "cell_type": "code",
   "execution_count": 55,
   "metadata": {},
   "outputs": [
    {
     "data": {
      "text/plain": [
       "700238"
      ]
     },
     "execution_count": 55,
     "metadata": {},
     "output_type": "execute_result"
    }
   ],
   "source": [
    "len(edges)"
   ]
  },
  {
   "cell_type": "code",
   "execution_count": 48,
   "metadata": {},
   "outputs": [
    {
     "name": "stdout",
     "output_type": "stream",
     "text": [
      "700238\n"
     ]
    }
   ],
   "source": [
    "edges = []\n",
    "\n",
    "with open('edges.txt', 'r') as f:\n",
    "    for line in f:\n",
    "        node1, node2 = line.strip().split()\n",
    "        edges.append((node1, node2))\n",
    "\n",
    "print(len(edges))"
   ]
  },
  {
   "cell_type": "code",
   "execution_count": 63,
   "metadata": {},
   "outputs": [],
   "source": [
    "construct_pajek_network(friends, edges, 730)"
   ]
  },
  {
   "cell_type": "code",
   "execution_count": null,
   "metadata": {},
   "outputs": [],
   "source": [
    "url = f'http://api.steampowered.com/ISteamUser/GetFriendList/v0001/?key={API_KEY}&steamid=76561198048626572&relationship=friend'\n",
    "response = requests.get(url)\n",
    "print(response) \n"
   ]
  },
  {
   "cell_type": "code",
   "execution_count": 32,
   "metadata": {},
   "outputs": [],
   "source": [
    "\n",
    "G = nx.read_pajek(f\"Networks/730.net\")\n",
    "G = nx.Graph(G)"
   ]
  },
  {
   "cell_type": "code",
   "execution_count": 11,
   "metadata": {},
   "outputs": [
    {
     "name": "stdout",
     "output_type": "stream",
     "text": [
      "44397\n",
      "383756\n"
     ]
    }
   ],
   "source": [
    "#check number of nodes and edges\n",
    "print(G.number_of_nodes())\n",
    "print(G.number_of_edges())"
   ]
  },
  {
   "cell_type": "code",
   "execution_count": 86,
   "metadata": {},
   "outputs": [],
   "source": [
    "def VisualizeNetwork(G, title):\n",
    "    plt.figure(figsize=(12,12))\n",
    "    nx.draw(G, node_size=20, with_labels=False)\n",
    "    plt.title(title)\n",
    "    plt.savefig(title + \".pdf\")\n",
    "    plt.show()\n"
   ]
  },
  {
   "cell_type": "code",
   "execution_count": 8,
   "metadata": {},
   "outputs": [
    {
     "name": "stdout",
     "output_type": "stream",
     "text": [
      "Note: to be able to use all crisp methods, you need to install some additional packages:  {'bayanpy', 'graph_tool', 'wurlitzer'}\n",
      "Note: to be able to use all crisp methods, you need to install some additional packages:  {'ASLPAw', 'pyclustering'}\n",
      "Note: to be able to use all crisp methods, you need to install some additional packages:  {'wurlitzer'}\n"
     ]
    }
   ],
   "source": [
    "from cdlib import algorithms, viz, evaluation\n",
    "import networkx as nx"
   ]
  },
  {
   "cell_type": "code",
   "execution_count": 12,
   "metadata": {},
   "outputs": [],
   "source": [
    "coms = algorithms.louvain(G)\n",
    "coms2 = algorithms.walktrap(G)\n"
   ]
  },
  {
   "cell_type": "code",
   "execution_count": 13,
   "metadata": {},
   "outputs": [],
   "source": [
    "coms3 = algorithms.leiden(G)"
   ]
  },
  {
   "cell_type": "code",
   "execution_count": 14,
   "metadata": {},
   "outputs": [],
   "source": [
    "coms4 = algorithms.label_propagation(G)"
   ]
  },
  {
   "cell_type": "code",
   "execution_count": 20,
   "metadata": {},
   "outputs": [
    {
     "data": {
      "text/plain": [
       "39"
      ]
     },
     "execution_count": 20,
     "metadata": {},
     "output_type": "execute_result"
    }
   ],
   "source": [
    "len(coms.communities)"
   ]
  },
  {
   "cell_type": "code",
   "execution_count": 37,
   "metadata": {},
   "outputs": [],
   "source": [
    "flpcoms = nx.community.fast_label_propagation_communities(G)\n",
    "flpcomslist = list(flpcoms)"
   ]
  },
  {
   "cell_type": "code",
   "execution_count": 38,
   "metadata": {},
   "outputs": [
    {
     "data": {
      "text/plain": [
       "553"
      ]
     },
     "execution_count": 38,
     "metadata": {},
     "output_type": "execute_result"
    }
   ],
   "source": [
    "len(flpcomslist)"
   ]
  },
  {
   "cell_type": "code",
   "execution_count": 39,
   "metadata": {},
   "outputs": [
    {
     "name": "stdout",
     "output_type": "stream",
     "text": [
      "Average community size: 1138.3846153846155, number of communities: 39\n",
      "Average community size: 41.765757290686736, number of communities: 1063\n",
      "Average community size: 1199.918918918919, number of communities: 37\n",
      "Average community size: 51.98711943793911, number of communities: 854\n"
     ]
    }
   ],
   "source": [
    "# Output the average community size\n",
    "print(f\"Average community size: {np.mean([len(c) for c in coms.communities])}, number of communities: {len(coms.communities)}\")\n",
    "print(f\"Average community size: {np.mean([len(c) for c in coms2.communities])}, number of communities: {len(coms2.communities)}\")\n",
    "print(f\"Average community size: {np.mean([len(c) for c in coms3.communities])}, number of communities: {len(coms3.communities)}\")\n",
    "print(f\"Average community size: {np.mean([len(c) for c in coms4.communities])}, number of communities: {len(coms4.communities)}\")"
   ]
  },
  {
   "cell_type": "code",
   "execution_count": 45,
   "metadata": {},
   "outputs": [
    {
     "data": {
      "image/png": "[encoded data removed]",
      "text/plain": [
       "<Figure size 500x500 with 1 Axes>"
      ]
     },
     "metadata": {},
     "output_type": "display_data"
    }
   ],
   "source": [
    "violinplot = viz.plot_com_properties_relation([coms,coms2, coms3, coms4], evaluation.size,evaluation.internal_edge_density)"
   ]
  },
  {
   "cell_type": "code",
   "execution_count": 29,
   "metadata": {},
   "outputs": [
    {
     "name": "stdout",
     "output_type": "stream",
     "text": [
      "FitnessResult(min=None, max=None, score=0.7624374635803113, std=None)\n",
      "FitnessResult(min=None, max=None, score=0.7295547312481494, std=None)\n"
     ]
    }
   ],
   "source": [
    "mod = coms.newman_girvan_modularity()\n",
    "print(mod)\n",
    "mod2 = coms4.newman_girvan_modularity()\n",
    "print(mod2)"
   ]
  },
  {
   "cell_type": "code",
   "execution_count": 31,
   "metadata": {},
   "outputs": [],
   "source": [
    "\n",
    "G2 = nx.read_pajek(f\"Networks/570.net\")\n",
    "G2 = nx.Graph(G)"
   ]
  },
  {
   "cell_type": "code",
   "execution_count": 33,
   "metadata": {},
   "outputs": [
    {
     "name": "stdout",
     "output_type": "stream",
     "text": [
      "10497\n",
      "58432\n"
     ]
    }
   ],
   "source": [
    "#check number of nodes and edges\n",
    "print(G2.number_of_nodes())\n",
    "print(G2.number_of_edges())"
   ]
  },
  {
   "cell_type": "code",
   "execution_count": 40,
   "metadata": {},
   "outputs": [],
   "source": [
    "g2coms = algorithms.louvain(G2)\n",
    "g2coms2 = algorithms.walktrap(G2)\n",
    "g2coms3 = algorithms.leiden(G2)\n",
    "g2coms4 = algorithms.label_propagation(G2)\n",
    "g2flpcoms = nx.community.fast_label_propagation_communities(G2)"
   ]
  },
  {
   "cell_type": "code",
   "execution_count": 41,
   "metadata": {},
   "outputs": [
    {
     "name": "stdout",
     "output_type": "stream",
     "text": [
      "Average community size: 276.2368421052632, number of communities: 38\n",
      "Average community size: 28.68032786885246, number of communities: 366\n",
      "Average community size: 269.15384615384613, number of communities: 241\n",
      "Average community size: 43.55601659751037, number of communities: 241\n"
     ]
    }
   ],
   "source": [
    "# Output the average community size\n",
    "print(f\"Average community size: {np.mean([len(c) for c in g2coms.communities])}, number of communities: {len(g2coms.communities)}\")\n",
    "print(f\"Average community size: {np.mean([len(c) for c in g2coms2.communities])}, number of communities: {len(g2coms2.communities)}\")\n",
    "print(f\"Average community size: {np.mean([len(c) for c in g2coms3.communities])}, number of communities: {len(g2coms4.communities)}\")\n",
    "print(f\"Average community size: {np.mean([len(c) for c in g2coms4.communities])}, number of communities: {len(g2coms4.communities)}\")"
   ]
  },
  {
   "cell_type": "code",
   "execution_count": 44,
   "metadata": {},
   "outputs": [
    {
     "data": {
      "text/plain": [
       "<seaborn.axisgrid.FacetGrid at 0x1a8c7306e90>"
      ]
     },
     "execution_count": 44,
     "metadata": {},
     "output_type": "execute_result"
    },
    {
     "data": {
      "image/png": "[encoded data removed]",
      "text/plain": [
       "<Figure size 500x500 with 1 Axes>"
      ]
     },
     "metadata": {},
     "output_type": "display_data"
    }
   ],
   "source": [
    "# plot the communities sizes distribution for each algorithm\n",
    "viz.plot_com_properties_relation([g2coms, g2coms2, g2coms3, g2coms4], evaluation.size,evaluation.internal_edge_density)"
   ]
  },
  {
   "cell_type": "code",
   "execution_count": 47,
   "metadata": {},
   "outputs": [],
   "source": [
    "mod_louvain = g2coms.newman_girvan_modularity().score\n",
    "mod_label_propagation = g2coms4.newman_girvan_modularity().score\n"
   ]
  },
  {
   "cell_type": "code",
   "execution_count": 56,
   "metadata": {},
   "outputs": [],
   "source": [
    "mod = coms.newman_girvan_modularity()\n",
    "g2mod = g2coms.newman_girvan_modularity()"
   ]
  },
  {
   "cell_type": "code",
   "execution_count": 57,
   "metadata": {},
   "outputs": [
    {
     "name": "stdout",
     "output_type": "stream",
     "text": [
      "Modularity of G1: FitnessResult(min=None, max=None, score=0.7624374635803113, std=None)\n",
      "Modularity of G2: FitnessResult(min=None, max=None, score=0.7363393798737624, std=None)\n"
     ]
    }
   ],
   "source": [
    "print(f\"Modularity of G1: {mod}\")\n",
    "print(f\"Modularity of G2: {g2mod}\")"
   ]
  },
  {
   "cell_type": "code",
   "execution_count": 64,
   "metadata": {},
   "outputs": [
    {
     "data": {
      "image/png": "[encoded data removed]",
      "text/plain": [
       "<Figure size 1000x500 with 1 Axes>"
      ]
     },
     "metadata": {},
     "output_type": "display_data"
    }
   ],
   "source": [
    "\n",
    "\n",
    "# Get the sizes of the communities\n",
    "sizes1 = [len(c) / G.number_of_nodes() * 100 for c in coms.communities]\n",
    "sizes2 = [len(c) / G2.number_of_nodes() * 100 for c in g2coms.communities]\n",
    "\n",
    "\n",
    "# Create a figure\n",
    "fig, ax = plt.subplots(figsize=(10, 5))\n",
    "\n",
    "# Plot the community sizes for G1 and G2 on the same subplot\n",
    "ax.boxplot([sizes1, sizes2], labels=['G1', 'G2'])\n",
    "ax.set_title('Community Sizes')\n",
    "ax.set_ylabel('Community Size (%)')\n",
    "\n",
    "# Show the plot\n",
    "plt.show()"
   ]
  },
  {
   "cell_type": "code",
   "execution_count": 67,
   "metadata": {},
   "outputs": [
    {
     "name": "stdout",
     "output_type": "stream",
     "text": [
      "G1: Conductance = 0.17127047749762836\n",
      "G2: Conductance = 0.1325714567815247\n"
     ]
    }
   ],
   "source": [
    "from cdlib import evaluation\n",
    "\n",
    "# Calculate the conductance for the communities in the two networks\n",
    "cond1 = evaluation.conductance(G, coms)\n",
    "cond2 = evaluation.conductance(G2, g2coms)\n",
    "\n",
    "\n",
    "print(f\"G1: Conductance = {cond1.score}\")\n",
    "print(f\"G2: Conductance = {cond2.score}\")"
   ]
  },
  {
   "cell_type": "code",
   "execution_count": 72,
   "metadata": {},
   "outputs": [],
   "source": [
    "from typing import Dict, Any, List"
   ]
  },
  {
   "cell_type": "code",
   "execution_count": 83,
   "metadata": {},
   "outputs": [],
   "source": [
    "\n",
    "def top_nodes(G: nx.Graph, C: Dict[Any, float], centrality: str, n=15) -> List[Any]:\n",
    "    \"\"\"prints and returns top n nodes by given measure of centrality\"\"\"\n",
    "\n",
    "    # OPT take callable instead of dict, only compute centrality on non-mode nodes\n",
    "    # OPT np.argpartition instead of sort\n",
    "    print(\"{:>12s} | '{:s}'\".format('Centrality', centrality))\n",
    "    nodes = []\n",
    "    for i, c in sorted(C.items(), key=lambda item: (item[1], G.degree[item[0]]), reverse=True):\n",
    "        if not G.nodes[i]['label'].startswith('m-'):\n",
    "            nodes.append(G.nodes[i])\n",
    "            print(\"{:>12.6f} | '{:s}' ({:,d})\".format(c, G.nodes[i].get('label', 'No label'), G.degree[i]))\n",
    "            n -= 1\n",
    "            if n == 0:\n",
    "                break\n",
    "    print()\n",
    "    return nodes"
   ]
  },
  {
   "cell_type": "code",
   "execution_count": 84,
   "metadata": {},
   "outputs": [],
   "source": [
    "from typing import Set\n",
    "import networkx as nx\n",
    "\n",
    "def pagerank(G: nx.Graph, alpha=0.85, eps=1e-6, teleport: Set[int] | None = None):\n",
    "    node_to_index = {node: index for index, node in enumerate(G.nodes())}\n",
    "    index_to_node = {index: node for node, index in node_to_index.items()}\n",
    "    P = [1 / len(G)] * len(G)\n",
    "    diff = 1\n",
    "    while diff > eps:\n",
    "        U = [sum([P[node_to_index[j]] * alpha / G.degree(j) for j in G[i]])\n",
    "             for i in G.nodes()]\n",
    "        u = sum(U)\n",
    "        if teleport is not None:\n",
    "            for i in teleport:\n",
    "                U[node_to_index[i]] += (1 - u) / len(teleport)\n",
    "        else:\n",
    "            U = [U[node_to_index[i]] + (1 - u) / len(G) for i in G.nodes()]\n",
    "        diff = sum([abs(P[node_to_index[i]] - U[node_to_index[i]]) for i in G.nodes()])\n",
    "        P = U\n",
    "    return {index_to_node[i]: P[i] for i in range(len(P))}"
   ]
  },
  {
   "cell_type": "code",
   "execution_count": 91,
   "metadata": {},
   "outputs": [],
   "source": [
    "pagerank_dict = nx.pagerank(G2, alpha=0.9)\n",
    "ordered_nodes = sorted(pagerank_dict.items(), key=lambda item: item[1], reverse=True)"
   ]
  },
  {
   "cell_type": "code",
   "execution_count": 92,
   "metadata": {},
   "outputs": [
    {
     "data": {
      "text/plain": [
       "[('76561198012094202', 0.012351234593987168),\n",
       " ('76561198071482825', 0.004672613604401036),\n",
       " ('76561198025391492', 0.00398923218875625),\n",
       " ('76561198098700215', 0.0031089565498776646),\n",
       " ('76561198005164334', 0.002599248147563658),\n",
       " ('76561198083983404', 0.0025192884128413),\n",
       " ('76561198003846077', 0.002446619759867514),\n",
       " ('76561198121591863', 0.0023216132364879925),\n",
       " ('76561198133503506', 0.0022723625573960503),\n",
       " ('76561197973601315', 0.0022116921487094912)]"
      ]
     },
     "execution_count": 92,
     "metadata": {},
     "output_type": "execute_result"
    }
   ],
   "source": [
    "ordered_nodes[:10]"
   ]
  },
  {
   "cell_type": "code",
   "execution_count": 93,
   "metadata": {},
   "outputs": [],
   "source": [
    "pagerank_dict = nx.pagerank(G, alpha=0.9)\n",
    "ordered_nodes = sorted(pagerank_dict.items(), key=lambda item: item[1], reverse=True)"
   ]
  },
  {
   "cell_type": "code",
   "execution_count": 95,
   "metadata": {},
   "outputs": [
    {
     "data": {
      "text/plain": [
       "[('76561198368011232', 0.001034296557318417),\n",
       " ('76561198019548655', 0.0010001134528882637),\n",
       " ('76561198118848216', 0.0008674575121135844),\n",
       " ('76561198121600504', 0.0008247803727422146),\n",
       " ('76561198090734551', 0.0008073097030228365),\n",
       " ('76561197979126496', 0.0008066066195136092),\n",
       " ('76561198892882620', 0.000702442708209024),\n",
       " ('76561198436281603', 0.0006820125629732458),\n",
       " ('76561198805679145', 0.0006730476560049902),\n",
       " ('76561198045483165', 0.0006719882380834701)]"
      ]
     },
     "execution_count": 95,
     "metadata": {},
     "output_type": "execute_result"
    }
   ],
   "source": [
    "ordered_nodes[:10]"
   ]
  }
 ],
 "metadata": {
  "kernelspec": {
   "display_name": "IDS",
   "language": "python",
   "name": "python3"
  },
  "language_info": {
   "codemirror_mode": {
    "name": "ipython",
    "version": 3
   },
   "file_extension": ".py",
   "mimetype": "text/x-python",
   "name": "python",
   "nbconvert_exporter": "python",
   "pygments_lexer": "ipython3",
   "version": "3.10.14"
  }
 },
 "nbformat": 4,
 "nbformat_minor": 2
}
